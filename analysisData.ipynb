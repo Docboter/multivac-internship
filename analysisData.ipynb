{
 "cells": [
  {
   "cell_type": "markdown",
   "source": [
    "# Setup"
   ],
   "metadata": {
    "collapsed": false
   }
  },
  {
   "cell_type": "code",
   "execution_count": 307,
   "outputs": [],
   "source": [
    "import pandas as pd"
   ],
   "metadata": {
    "collapsed": false
   }
  },
  {
   "cell_type": "code",
   "execution_count": 308,
   "outputs": [],
   "source": [
    "packageData = pd.read_csv(\"package_data.csv\")\n",
    "oeeData = pd.read_csv(\"oee_data.csv\")\n",
    "errorMessages = pd.read_csv(\"error_messages_accumulated.csv\")"
   ],
   "metadata": {
    "collapsed": false,
    "ExecuteTime": {
     "start_time": "2023-05-24T21:33:52.751994Z",
     "end_time": "2023-05-24T21:33:53.095226Z"
    }
   }
  },
  {
   "cell_type": "markdown",
   "source": [
    "# 1)"
   ],
   "metadata": {
    "collapsed": false
   }
  },
  {
   "cell_type": "code",
   "execution_count": 309,
   "outputs": [],
   "source": [
    "packageData[\"timestamp\"] = pd.to_datetime(packageData[\"timestamp\"])\n",
    "oeeData[\"timestamp\"] = pd.to_datetime(oeeData[\"timestamp\"])"
   ],
   "metadata": {
    "collapsed": false,
    "ExecuteTime": {
     "start_time": "2023-05-24T21:33:53.097221Z",
     "end_time": "2023-05-24T21:33:53.539717Z"
    }
   }
  },
  {
   "cell_type": "code",
   "execution_count": 310,
   "outputs": [],
   "source": [
    "packageData[\"totalPacks\"] = packageData[\"good_packs\"] + packageData[\"reject_packs\"]\n",
    "totalPacks = packageData[\"totalPacks\"].sum()"
   ],
   "metadata": {
    "collapsed": false,
    "ExecuteTime": {
     "start_time": "2023-05-24T21:33:53.540715Z",
     "end_time": "2023-05-24T21:33:53.555086Z"
    }
   }
  },
  {
   "cell_type": "code",
   "execution_count": 311,
   "outputs": [],
   "source": [
    "packageData[\"cyclesPerMinute\"] = 60 / (packageData[\"timestamp\"].diff() / pd.Timedelta(minutes=1))\n",
    "oeeData[\"actual_cycles_per_minute\"] = oeeData[\"actual_cycles_per_minute\"].fillna(packageData[\"cyclesPerMinute\"])\n",
    "averageCyclesPerMinute = oeeData[\"actual_cycles_per_minute\"].mean()\n",
    "targetCyclesPerMinute = 10\n",
    "cyclesPercent = (averageCyclesPerMinute / targetCyclesPerMinute) * 100"
   ],
   "metadata": {
    "collapsed": false,
    "ExecuteTime": {
     "start_time": "2023-05-24T21:33:53.556083Z",
     "end_time": "2023-05-24T21:33:53.586003Z"
    }
   }
  },
  {
   "cell_type": "code",
   "execution_count": 318,
   "outputs": [
    {
     "name": "stdout",
     "output_type": "stream",
     "text": [
      "Total number of packs: 6479336\n",
      "Actual cycle power per minute:  6\n",
      "Achieved cycle performance compared to planned cycle performance:  61 %\n"
     ]
    }
   ],
   "source": [
    "print(\"Total number of packs:\", totalPacks)\n",
    "print(\"Actual cycle power per minute: \", int(averageCyclesPerMinute))\n",
    "print(\"Achieved cycle performance compared to planned cycle performance: \", int(cyclesPercent), \"%\")"
   ],
   "metadata": {
    "collapsed": false,
    "ExecuteTime": {
     "start_time": "2023-05-24T21:34:13.300308Z",
     "end_time": "2023-05-24T21:34:13.313273Z"
    }
   }
  },
  {
   "cell_type": "markdown",
   "source": [
    "# 2)"
   ],
   "metadata": {
    "collapsed": false
   }
  },
  {
   "cell_type": "code",
   "execution_count": 313,
   "outputs": [],
   "source": [
    "headOfDowntime = errorMessages[\"code\"].value_counts().head(3).reset_index()\n",
    "headOfDowntime.columns = [\"code\", \"number of errors\"]"
   ],
   "metadata": {
    "collapsed": false,
    "ExecuteTime": {
     "start_time": "2023-05-24T21:33:53.604122Z",
     "end_time": "2023-05-24T21:33:53.646264Z"
    }
   }
  },
  {
   "cell_type": "code",
   "execution_count": 314,
   "outputs": [],
   "source": [
    "packageData[\"totalRejectPacks\"] = packageData[\"reject_packs\"].sum()\n",
    "maxRejectPacksTimestamp = packageData.loc[packageData[\"totalRejectPacks\"].idxmax(), \"timestamp\"]"
   ],
   "metadata": {
    "collapsed": false,
    "ExecuteTime": {
     "start_time": "2023-05-24T21:33:53.618627Z",
     "end_time": "2023-05-24T21:33:53.655170Z"
    }
   }
  },
  {
   "cell_type": "code",
   "execution_count": 315,
   "outputs": [
    {
     "name": "stdout",
     "output_type": "stream",
     "text": [
      "Total number of bad packages: 293871\n",
      "Most frequent downtime reasons for bad packaging:\n",
      "   code  number of errors\n",
      "0  1019               217\n",
      "1  1010               155\n",
      "2  2030               132\n",
      "Time with the most bad packs: 2022-05-04 13:05:49.295000+00:00\n"
     ]
    }
   ],
   "source": [
    "print(\"Total number of bad packages:\", packageData[\"reject_packs\"].sum())\n",
    "print(\"Most frequent downtime reasons for bad packaging:\")\n",
    "print(headOfDowntime)\n",
    "print(\"Time with the most bad packs:\", maxRejectPacksTimestamp)"
   ],
   "metadata": {
    "collapsed": false,
    "ExecuteTime": {
     "start_time": "2023-05-24T21:33:53.634703Z",
     "end_time": "2023-05-24T21:33:53.656167Z"
    }
   }
  },
  {
   "cell_type": "markdown",
   "source": [
    "# 3)"
   ],
   "metadata": {
    "collapsed": false
   }
  },
  {
   "cell_type": "code",
   "execution_count": 316,
   "outputs": [
    {
     "name": "stderr",
     "output_type": "stream",
     "text": [
      "C:\\Users\\Maximilian\\AppData\\Local\\Temp\\ipykernel_13584\\462802761.py:1: FutureWarning: The default value of numeric_only in DataFrameGroupBy.sum is deprecated. In a future version, numeric_only will default to False. Either specify numeric_only or select only columns which should be valid for the function.\n",
      "  weeklyPacks = packageData.resample(\"W\", on=\"timestamp\").sum()[\"good_packs\"]\n"
     ]
    }
   ],
   "source": [
    "weeklyPacks = packageData.resample(\"W\", on=\"timestamp\").sum()[\"good_packs\"]\n",
    "averageWeeklyPacks = weeklyPacks.mean()\n",
    "nextWeeksProjections = averageWeeklyPacks * 4"
   ],
   "metadata": {
    "collapsed": false,
    "ExecuteTime": {
     "start_time": "2023-05-24T21:33:53.649158Z",
     "end_time": "2023-05-24T21:33:53.772825Z"
    }
   }
  },
  {
   "cell_type": "code",
   "execution_count": 317,
   "outputs": [
    {
     "name": "stdout",
     "output_type": "stream",
     "text": [
      "Average number of packs per week: 475805\n",
      "Forecast pack production for the next 4 weeks: 1903220\n"
     ]
    }
   ],
   "source": [
    "print(\"Average number of packs per week:\", int(averageWeeklyPacks))\n",
    "print(\"Forecast pack production for the next 4 weeks:\", int(nextWeeksProjections))"
   ],
   "metadata": {
    "collapsed": false,
    "ExecuteTime": {
     "start_time": "2023-05-24T21:33:53.776815Z",
     "end_time": "2023-05-24T21:33:53.818706Z"
    }
   }
  },
  {
   "cell_type": "code",
   "execution_count": 317,
   "outputs": [],
   "source": [],
   "metadata": {
    "collapsed": false,
    "ExecuteTime": {
     "start_time": "2023-05-24T21:33:53.790778Z",
     "end_time": "2023-05-24T21:33:53.828705Z"
    }
   }
  }
 ],
 "metadata": {
  "kernelspec": {
   "display_name": "Python 3",
   "language": "python",
   "name": "python3"
  },
  "language_info": {
   "codemirror_mode": {
    "name": "ipython",
    "version": 2
   },
   "file_extension": ".py",
   "mimetype": "text/x-python",
   "name": "python",
   "nbconvert_exporter": "python",
   "pygments_lexer": "ipython2",
   "version": "2.7.6"
  }
 },
 "nbformat": 4,
 "nbformat_minor": 0
}
